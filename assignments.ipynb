{
 "cells": [
  {
   "cell_type": "markdown",
   "metadata": {},
   "source": [
    "# Module 2: Control Flow Assignments\n",
    "## Lesson 2.1: Conditional Statements\n",
    "### Assignment 1: Simple if Statement\n",
    "\n",
    "Write a program that asks the user to input a number and prints whether the number is positive.\n",
    "\n",
    "### Assignment 2: if-else Statement\n",
    "\n",
    "Write a program that asks the user to input a number and prints whether the number is positive or negative.\n",
    "\n",
    "### Assignment 3: if-elif-else Statement\n",
    "\n",
    "Write a program that asks the user to input a number and prints whether the number is positive, negative, or zero.\n",
    "\n",
    "### Assignment 4: Nested if Statement\n",
    "\n",
    "Write a program that asks the user to input a number and prints whether the number is positive and even, positive and odd, or negative.\n",
    "\n",
    "## Lesson 2.2: Loops\n",
    "### Assignment 5: for Loop\n",
    "\n",
    "Write a program that prints all the numbers from 1 to 10 using a for loop.\n",
    "\n",
    "### Assignment 6: while Loop\n",
    "\n",
    "Write a program that prints all the numbers from 1 to 10 using a while loop.\n",
    "\n",
    "### Assignment 7: Nested Loops\n",
    "\n",
    "Write a program that prints a 5x5 grid of asterisks (*) using nested loops.\n",
    "\n",
    "### Assignment 8: break Statement\n",
    "\n",
    "Write a program that asks the user to input numbers until they input 0. The program should print the sum of all the input numbers.\n",
    "\n",
    "### Assignment 9: continue Statement\n",
    "\n",
    "Write a program that prints all the numbers from 1 to 10 except 5 using a for loop and continue statement.\n",
    "\n",
    "### Assignment 10: pass Statement\n",
    "\n",
    "Write a program that defines an empty function using the pass statement.\n",
    "\n",
    "### Assignment 11: Combining Loops and Conditionals\n",
    "\n",
    "Write a program that asks the user to input a number and prints all the even numbers from 1 to that number using a for loop.\n",
    "\n",
    "### Assignment 12: Factorial Calculation\n",
    "\n",
    "Write a program that calculates the factorial of a number input by the user using a while loop.\n",
    "\n",
    "### Assignment 13: Sum of Digits\n",
    "\n",
    "Write a program that calculates the sum of the digits of a number input by the user using a while loop.\n",
    "\n",
    "### Assignment 14: Prime Number Check\n",
    "\n",
    "Write a program that checks if a number input by the user is a prime number using a for loop.\n",
    "\n",
    "### Assignment 15: Fibonacci Sequence\n",
    "\n",
    "Write a program that prints the first n Fibonacci numbers, where n is input by the user."
   ]
  },
  {
   "cell_type": "markdown",
   "id": "3bc28902",
   "metadata": {},
   "source": [
    "## Solutions"
   ]
  },
  {
   "cell_type": "markdown",
   "id": "5f281d9b",
   "metadata": {},
   "source": [
    "Q: Write a program that asks the user to input a number and prints whether the number is positive.\n"
   ]
  },
  {
   "cell_type": "code",
   "execution_count": 42,
   "metadata": {},
   "outputs": [
    {
     "name": "stdout",
     "output_type": "stream",
     "text": [
      "The number 6.0 is non-negative.\n"
     ]
    }
   ],
   "source": [
    "## ANS:\n",
    "numbr1 = float(input(\"Enter first number: \"))\n",
    "if numbr1 < 0:\n",
    "    print(f\"The number {numbr1} is negative.\")\n",
    "else:\n",
    "    print(f\"The number {numbr1} is non-negative.\")\n"
   ]
  },
  {
   "cell_type": "markdown",
   "id": "e5f526a9",
   "metadata": {},
   "source": [
    "Q: Write a program that asks the user to input a number and prints whether the number is positive or negative.\n"
   ]
  },
  {
   "cell_type": "code",
   "execution_count": 43,
   "id": "084cbd09",
   "metadata": {},
   "outputs": [
    {
     "name": "stdout",
     "output_type": "stream",
     "text": [
      "The number 5.0 is positive.\n"
     ]
    }
   ],
   "source": [
    "# Ans:\n",
    "nbr1 = float(input(\"Enter first number: \"))\n",
    "if nbr1 == 0:\n",
    "    print(\"The number is zero.\")\n",
    "elif nbr1 < 0:\n",
    "    print(f\"The number {nbr1} is negative.\")\n",
    "else:\n",
    "    print(f\"The number {nbr1} is positive.\")"
   ]
  },
  {
   "cell_type": "markdown",
   "id": "206bf575",
   "metadata": {},
   "source": [
    "Q: Write a program that asks the user to input a number and prints whether the number is positive, negative, or zero."
   ]
  },
  {
   "cell_type": "code",
   "execution_count": null,
   "id": "15910d75",
   "metadata": {},
   "outputs": [],
   "source": []
  },
  {
   "cell_type": "markdown",
   "id": "56944161",
   "metadata": {},
   "source": [
    "Q: Write a program that asks the user to input a number and prints whether the number is positive and even, positive and odd, or negative."
   ]
  },
  {
   "cell_type": "code",
   "execution_count": null,
   "id": "da9ac3d1",
   "metadata": {},
   "outputs": [],
   "source": [
    "nbr1 = float(input(\"Enter first number: \"))\n",
    "if nbr1 == 0:\n",
    "    print(\"The number is zero.\")\n",
    "elif nbr1 < 0:\n",
    "    if nbr1%2 == 0:\n",
    "        print(f\"The number {nbr1} is a negative even number.\")\n",
    "    else:\n",
    "        print(f\"The number {nbr1} is a negative odd number.\")\n",
    "else:\n",
    "    if nbr1%2 == 0:\n",
    "        print(f\"The number {nbr1} is a positive even number.\")\n",
    "    else:\n",
    "        print(f\"The number {nbr1} is a positive odd number.\")"
   ]
  },
  {
   "cell_type": "markdown",
   "id": "1f1a33c9",
   "metadata": {},
   "source": [
    "Q2.1: Write a program that prints all the numbers from 1 to 10 using a for loop."
   ]
  },
  {
   "cell_type": "code",
   "execution_count": null,
   "id": "de073ebd",
   "metadata": {},
   "outputs": [
    {
     "name": "stdout",
     "output_type": "stream",
     "text": [
      "1\n",
      "2\n",
      "3\n",
      "4\n",
      "5\n",
      "6\n",
      "7\n",
      "8\n",
      "9\n",
      "10\n"
     ]
    }
   ],
   "source": [
    "n=10\n",
    "for i in range(1, n+1):\n",
    "    print(i)"
   ]
  },
  {
   "cell_type": "markdown",
   "id": "a0427432",
   "metadata": {},
   "source": [
    "Q2.2: Write a program that prints all the numbers from 1 to 10 using a while loop."
   ]
  },
  {
   "cell_type": "code",
   "execution_count": null,
   "id": "7c107212",
   "metadata": {},
   "outputs": [
    {
     "name": "stdout",
     "output_type": "stream",
     "text": [
      "1\n",
      "2\n",
      "3\n",
      "4\n",
      "5\n",
      "6\n",
      "7\n",
      "8\n",
      "9\n",
      "10\n"
     ]
    }
   ],
   "source": [
    "n=1\n",
    "while n <= 10:\n",
    "    print(n)\n",
    "    n += 1"
   ]
  },
  {
   "cell_type": "markdown",
   "id": "0136ed59",
   "metadata": {},
   "source": [
    "Q2.3: Write a program that prints a 5x5 grid of asterisks (*) using nested loops."
   ]
  },
  {
   "cell_type": "code",
   "execution_count": null,
   "id": "d384569d",
   "metadata": {},
   "outputs": [
    {
     "name": "stdout",
     "output_type": "stream",
     "text": [
      "*****\n",
      "*****\n",
      "*****\n",
      "*****\n",
      "*****\n"
     ]
    }
   ],
   "source": [
    "for i in range(5):\n",
    "    for j in range(5):\n",
    "        print(\"*\", end=\"\")\n",
    "    print()\n",
    "    \n"
   ]
  },
  {
   "cell_type": "markdown",
   "id": "5441dd15",
   "metadata": {},
   "source": [
    "Q2.4: Write a program that asks the user to input numbers until they input 0. The program should print the sum of all the input numbers."
   ]
  },
  {
   "cell_type": "code",
   "execution_count": null,
   "id": "6bf623a4",
   "metadata": {},
   "outputs": [
    {
     "name": "stdout",
     "output_type": "stream",
     "text": [
      "Current sum: 1.0, the number entered is: 2.0\n",
      "Current sum: 3.0, the number entered is: 3.0\n",
      "Current sum: 6.0, the number entered is: 6.0\n",
      "Current sum: 12.0, the number entered is: 5.0\n",
      "Current sum: 17.0, the number entered is: 56.0\n",
      "Current sum: 73.0, the number entered is: 0.0\n",
      "The sum of the entered numbers is: 73.0\n"
     ]
    }
   ],
   "source": [
    "sum = 0\n",
    "\n",
    "nbr1 = float(input(\"Enter first number: \"))\n",
    "while nbr1 != 0:\n",
    "    sum += nbr1\n",
    "    nbr1 = float(input(\"Enter next number (0 to stop): \"))\n",
    "    print(f\"Current sum: {sum}, the number entered is: {nbr1}\")\n",
    "print(f\"The sum of the entered numbers is: {sum}\")"
   ]
  },
  {
   "cell_type": "markdown",
   "id": "a1d1b957",
   "metadata": {},
   "source": [
    "Q2.5: Write a program that prints all the numbers from 1 to 10 except 5 using a for loop and continue statement."
   ]
  },
  {
   "cell_type": "code",
   "execution_count": null,
   "id": "774bda21",
   "metadata": {},
   "outputs": [
    {
     "name": "stdout",
     "output_type": "stream",
     "text": [
      "1\n",
      "2\n",
      "3\n",
      "4\n",
      "6\n",
      "7\n",
      "8\n",
      "9\n",
      "10\n"
     ]
    }
   ],
   "source": [
    "for i in range(1, 11):\n",
    "    if i== 5:\n",
    "        continue\n",
    "    print(i)"
   ]
  },
  {
   "cell_type": "markdown",
   "id": "6f27e354",
   "metadata": {},
   "source": [
    "Q2.6: Write a program that defines an empty function using the pass statement."
   ]
  },
  {
   "cell_type": "code",
   "execution_count": null,
   "id": "b8b4a96b",
   "metadata": {},
   "outputs": [],
   "source": [
    "def print_pattern(n):\n",
    "    pass"
   ]
  },
  {
   "cell_type": "markdown",
   "id": "22cf5c22",
   "metadata": {},
   "source": [
    "Q2.7: Write a program that asks the user to input a number and prints all the even numbers from 1 to that number using a for loop."
   ]
  },
  {
   "cell_type": "code",
   "execution_count": null,
   "id": "6f94dbc8",
   "metadata": {},
   "outputs": [
    {
     "name": "stdout",
     "output_type": "stream",
     "text": [
      "2, 4, 6, 8, 10, 12, 14, 16, 18, 20, 22, 24, "
     ]
    }
   ],
   "source": [
    "nbr1 = int(input(\"Enter first number: \"))\n",
    "for i in range(1, nbr1 + 1):\n",
    "    if i % 2 == 0:\n",
    "        print(f\"{i},\", end=' ' )"
   ]
  },
  {
   "cell_type": "markdown",
   "id": "bde62192",
   "metadata": {},
   "source": [
    "Q2.8: Write a program that calculates the factorial of a number input by the user using a while loop.\n"
   ]
  },
  {
   "cell_type": "code",
   "execution_count": null,
   "id": "46b07dbd",
   "metadata": {},
   "outputs": [
    {
     "name": "stdout",
     "output_type": "stream",
     "text": [
      "The factorial of 5 is: 120\n"
     ]
    }
   ],
   "source": [
    "nbr1 = int(input(\"Enter the number to find the factorial: \"))\n",
    "factorial = 1\n",
    "n=1\n",
    "while n <= nbr1:\n",
    "    factorial *= n\n",
    "    n += 1\n",
    "print(f\"The factorial of {nbr1} is: {factorial}\")"
   ]
  },
  {
   "cell_type": "markdown",
   "id": "299c3ce6",
   "metadata": {},
   "source": [
    "Q2.9: Write a program that checks if a number input by the user is a prime number using a for loop."
   ]
  },
  {
   "cell_type": "code",
   "execution_count": 7,
   "id": "2686fa11",
   "metadata": {},
   "outputs": [
    {
     "name": "stdout",
     "output_type": "stream",
     "text": [
      "41 is a prime number.\n"
     ]
    }
   ],
   "source": [
    "nbr1 = int(input(\"Enter the number to check if it is prime or not: \"))\n",
    "\n",
    "if nbr1 < 2:\n",
    "    print(f\"{nbr1} is not a prime number.\")\n",
    "else:\n",
    "    for i in range(2, nbr1):\n",
    "        if nbr1 % i == 0:\n",
    "            print(f\"{nbr1} is not a prime number, it is divisible by {i}\")\n",
    "            break\n",
    "    else:\n",
    "        print(f\"{nbr1} is a prime number.\")\n",
    "\n",
    "    "
   ]
  },
  {
   "cell_type": "markdown",
   "id": "2b0afb2e",
   "metadata": {},
   "source": [
    "Q2.10: Write a program that prints the first n Fibonacci numbers, where n is input by the user."
   ]
  },
  {
   "cell_type": "code",
   "execution_count": 8,
   "id": "ae934cec",
   "metadata": {},
   "outputs": [
    {
     "name": "stdout",
     "output_type": "stream",
     "text": [
      "Fibonacci series: 0 1 1 2 3 5 8 13 21 34 55 89 144 233 377 610 987 1597 2584 4181 6765 10946 17711 28657 46368 75025 121393 196418 317811 514229 832040 1346269 2178309 3524578 5702887 9227465 14930352 24157817 39088169 63245986 102334155 165580141 267914296 433494437 701408733 1134903170 1836311903 2971215073 4807526976 7778742049 12586269025 20365011074 32951280099 53316291173 86267571272 139583862445 225851433717 365435296162 591286729879 956722026041 1548008755920 2504730781961 4052739537881 6557470319842 10610209857723 17167680177565 27777890035288 44945570212853 72723460248141 117669030460994 190392490709135 308061521170129 498454011879264 806515533049393 1304969544928657 2111485077978050 3416454622906707 5527939700884757 8944394323791464 14472334024676221 23416728348467685 37889062373143906 61305790721611591 99194853094755497 160500643816367088 259695496911122585 420196140727489673 679891637638612258 1100087778366101931 1779979416004714189 2880067194370816120 4660046610375530309 7540113804746346429 12200160415121876738 19740274219868223167 31940434634990099905 51680708854858323072 83621143489848422977 135301852344706746049 218922995834555169026 \n"
     ]
    }
   ],
   "source": [
    "nbr1 = int(input(\"Enter the number to find the fibonacci series: \"))\n",
    "if nbr1 <= 0:\n",
    "    print(\"Please enter a positive integer.\")\n",
    "elif nbr1 == 1:\n",
    "    print(\"Fibonacci series: 0\")\n",
    "elif nbr1 == 2:\n",
    "    print(\"Fibonacci series: 0, 1\")\n",
    "else:\n",
    "    a, b = 0, 1\n",
    "    print(\"Fibonacci series:\", end=\" \")\n",
    "    for _ in range(nbr1):\n",
    "        print(a, end=\" \")\n",
    "        a, b = b, a + b\n",
    "    print()\n",
    "    "
   ]
  },
  {
   "cell_type": "code",
   "execution_count": null,
   "id": "e7e25494",
   "metadata": {},
   "outputs": [],
   "source": []
  }
 ],
 "metadata": {
  "kernelspec": {
   "display_name": "Python 3",
   "language": "python",
   "name": "python3"
  },
  "language_info": {
   "codemirror_mode": {
    "name": "ipython",
    "version": 3
   },
   "file_extension": ".py",
   "mimetype": "text/x-python",
   "name": "python",
   "nbconvert_exporter": "python",
   "pygments_lexer": "ipython3",
   "version": "3.13.0"
  }
 },
 "nbformat": 4,
 "nbformat_minor": 5
}
